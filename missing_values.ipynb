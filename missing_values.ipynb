{
 "cells": [
  {
   "cell_type": "markdown",
   "metadata": {},
   "source": [
    "# Missing values"
   ]
  },
  {
   "cell_type": "markdown",
   "metadata": {},
   "source": [
    "Prompt: Write a code to handle missing values in the dataset trainCSET_with_missing_values.csv"
   ]
  },
  {
   "cell_type": "markdown",
   "metadata": {},
   "source": [
    "Handling missing values is a common step in data preprocessing. The approach you choose to handle these values depends on the nature of your data and the problem you're trying to solve. Here are a few common strategies:\n",
    "\n",
    "- Removing Rows with Missing Values: This is a direct method but might result in loss of data.\n",
    "- Filling with Mean/Median/Mode: For numerical columns, you can fill missing values with the mean or median. For categorical columns, the mode is often used.\n",
    "- Filling with a Constant Value: Sometimes, filling missing values with a specific constant (like 'Unknown' or 0) might make sense based on domain knowledge.\n",
    "- Using Interpolation: This method can be useful for time series data.\n",
    "- Predictive Filling: Models like k-Nearest Neighbors or regressions can be used to predict and fill missing values.\n",
    "\n",
    "Here's a Python code using pandas that demonstrates how to handle missing values in the dataset trainCSET_with_missing_values.csv using a couple of these methods:"
   ]
  },
  {
   "cell_type": "code",
   "execution_count": null,
   "metadata": {
    "vscode": {
     "languageId": "plaintext"
    }
   },
   "outputs": [],
   "source": [
    "import pandas as pd\n",
    "\n",
    "# Read the dataset into a DataFrame\n",
    "df = pd.read_csv('trainCSET_with_missing_values.csv')\n",
    "\n",
    "# 1. Remove rows with missing values\n",
    "# df = df.dropna()\n",
    "\n",
    "# 2. Fill missing values with mean (for numerical columns)\n",
    "for col in df.select_dtypes(include=['float64', 'int64']).columns:\n",
    "    df[col].fillna(df[col].mean(), inplace=True)\n",
    "\n",
    "# Fill missing values with mode (for categorical columns)\n",
    "for col in df.select_dtypes(include=['object']).columns:\n",
    "    df[col].fillna(df[col].mode()[0], inplace=True)\n",
    "\n",
    "# 3. Fill missing values with a constant\n",
    "# df.fillna('Unknown', inplace=True)\n",
    "\n",
    "# Save the cleaned data back to the same CSV file (or a new one if preferred)\n",
    "df.to_csv('trainCSET_cleaned.csv', index=False)\n",
    "\n",
    "print(\"Missing values handled and saved to 'trainCSET_cleaned.csv'.\")"
   ]
  },
  {
   "cell_type": "markdown",
   "metadata": {},
   "source": [
    "Uncomment the method (by removing the # at the start of the line) you'd like to use. This code combines method 2 for both numerical and categorical columns."
   ]
  }
 ],
 "metadata": {
  "language_info": {
   "name": "python"
  },
  "orig_nbformat": 4
 },
 "nbformat": 4,
 "nbformat_minor": 2
}
